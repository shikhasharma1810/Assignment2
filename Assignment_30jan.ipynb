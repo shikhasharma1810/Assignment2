{
 "cells": [
  {
   "cell_type": "code",
   "execution_count": 6,
   "id": "4194b6b6-08f4-479c-80df-0336f46fd112",
   "metadata": {},
   "outputs": [
    {
     "name": "stdin",
     "output_type": "stream",
     "text": [
      "Enter the percentage 70.9\n"
     ]
    },
    {
     "name": "stdout",
     "output_type": "stream",
     "text": [
      "Grade C\n"
     ]
    }
   ],
   "source": [
    "1. #Write a program to accept percentage from the user and display the grade according to following criteria: \n",
    "   # >90 Grade A\n",
    "   # >80 and <=90 B\n",
    "   # >=60 and <=80 C\n",
    "   # below 60  D\n",
    "    \n",
    "perct= float(input('Enter the percentage'))\n",
    "\n",
    "if (perct > 90):\n",
    "    print('Grade A') \n",
    "elif (perct > 80 and perct <= 90):\n",
    "    print('Grade B')\n",
    "elif (perct >= 60 and perct <= 80):\n",
    "    print('Grade C')\n",
    "else:\n",
    "    print('Grade D')\n"
   ]
  },
  {
   "cell_type": "code",
   "execution_count": 10,
   "id": "ee33a18a-9a74-4932-b029-a0d75e801d8e",
   "metadata": {},
   "outputs": [
    {
     "name": "stdin",
     "output_type": "stream",
     "text": [
      "Enter the cost price of bike 850000\n"
     ]
    },
    {
     "name": "stdout",
     "output_type": "stream",
     "text": [
      "Road tax is- 127500.0\n"
     ]
    }
   ],
   "source": [
    "2. # Write a program to accept the CP of a bike and display the road tax to be paid according th following criteria:\n",
    "   # 15% (>100000)\n",
    "   # 10%(>50000 and <=100000)\n",
    "   # 5%(<=50000)\n",
    "    \n",
    "CP= float(input('Enter the cost price of bike'))\n",
    "\n",
    "if (CP > 100000):\n",
    "    road_tax = CP * 0.15\n",
    "    print('Road tax is-',road_tax) \n",
    "elif (CP > 50000 and CP <= 100000):\n",
    "    road_tax = 0.10 * CP\n",
    "    print('Road tax is-',road_tax) \n",
    "elif (CP <= 50000):\n",
    "    road_tax = 0.05 * CP\n",
    "    print('Road tax is-',road_tax)"
   ]
  },
  {
   "cell_type": "code",
   "execution_count": 13,
   "id": "c435e901-807e-44da-add7-4c05944dca50",
   "metadata": {},
   "outputs": [
    {
     "name": "stdin",
     "output_type": "stream",
     "text": [
      "Enter the city name Delhi\n"
     ]
    },
    {
     "name": "stdout",
     "output_type": "stream",
     "text": [
      "Red Fort\n"
     ]
    }
   ],
   "source": [
    "3. #Accept any city from the user and display monuments of that city.\n",
    "# Delhi- Red Fort\n",
    "# Aggra- Taj Mahal\n",
    "#Jaipur- Jal Mahal\n",
    "\n",
    "city= input('Enter the city name')\n",
    "\n",
    "if city=='Delhi' :\n",
    "    print('Red Fort')\n",
    "elif city=='Agra':\n",
    "    print('Taj Mahal')\n",
    "else:\n",
    "    print('Jal Mahal')\n"
   ]
  },
  {
   "cell_type": "code",
   "execution_count": 9,
   "id": "04356569-06cb-4509-87fe-36d202a50d4c",
   "metadata": {},
   "outputs": [
    {
     "name": "stdin",
     "output_type": "stream",
     "text": [
      "Enter a number 8\n"
     ]
    },
    {
     "name": "stdout",
     "output_type": "stream",
     "text": [
      "Total iteration required 0\n"
     ]
    }
   ],
   "source": [
    "4. # Check how many times a given number can be divided by 3 before it is less than or equal to 10\n",
    "\n",
    "count = 0\n",
    "number= int(input('Enter a number'))\n",
    "\n",
    "while number > 10:\n",
    "    # divide number by 3\n",
    "    number = number / 3\n",
    "    # increase count\n",
    "    count = count + 1\n",
    "print('Total iteration required', count)"
   ]
  },
  {
   "cell_type": "code",
   "execution_count": null,
   "id": "4b6c2796-4f07-4be0-8803-e0b1faf3676e",
   "metadata": {},
   "outputs": [],
   "source": [
    "5. Why and when to use while loop in Python? Give a detailed description with example.\n",
    "\n",
    "Python while loop is used to run a block code until a certain condition is met.\n",
    "a. A while loop evaluates the condition\n",
    "b. If the condition evaluates to True, the code inside the while loop is executed.\n",
    "c. Condition is evaluated again.\n",
    "d. This process continues until the condition is False.\n",
    "e. When condition evaluates to False, the loop stops.\n",
    "\n",
    "Ex: # Program to display numbers from 1 to 5\n",
    "\n",
    "# initialize the variable\n",
    "i = 1\n",
    "n = 5\n",
    "\n",
    "# while loop from i = 1 to 5\n",
    "while i <= n:\n",
    "    print(i)\n",
    "    i = i + 1"
   ]
  },
  {
   "cell_type": "code",
   "execution_count": 24,
   "id": "9dc7da04-8d7d-42aa-a2ab-2182f3c4a2d7",
   "metadata": {},
   "outputs": [
    {
     "name": "stdin",
     "output_type": "stream",
     "text": [
      "Enter no. of rows 3\n",
      "Enter no. of columns 4\n"
     ]
    },
    {
     "name": "stdout",
     "output_type": "stream",
     "text": [
      "****\n",
      "****\n",
      "****\n"
     ]
    }
   ],
   "source": [
    "6. #Use nested while loop to print 3 different pattern.\n",
    "\n",
    "rows=int(input('Enter no. of rows'))\n",
    "col=int(input('Enter no. of columns'))\n",
    "i=1\n",
    "while i<=rows:\n",
    "    j= 1\n",
    "    while j<=col:\n",
    "        print('*', end='')\n",
    "        j=j+1\n",
    "    i=i+1\n",
    "    print('')\n",
    "    \n"
   ]
  },
  {
   "cell_type": "code",
   "execution_count": 25,
   "id": "401b9eb9-62bc-4884-b3a2-840204ce406c",
   "metadata": {},
   "outputs": [
    {
     "name": "stdin",
     "output_type": "stream",
     "text": [
      "Enter no. of rows 4\n"
     ]
    },
    {
     "name": "stdout",
     "output_type": "stream",
     "text": [
      "*\n",
      "**\n",
      "***\n",
      "****\n"
     ]
    }
   ],
   "source": [
    "#Use nested while loop to print 3 different pattern.\n",
    "\n",
    "rows=int(input('Enter no. of rows'))\n",
    "i=1\n",
    "while i<=rows:\n",
    "    j= 1\n",
    "    while j<=i:\n",
    "        print('*', end='')\n",
    "        j=j+1\n",
    "    i=i+1\n",
    "    print('')"
   ]
  },
  {
   "cell_type": "code",
   "execution_count": 27,
   "id": "fcd7846a-a5db-4e1a-9be7-b059035c89c5",
   "metadata": {},
   "outputs": [
    {
     "name": "stdin",
     "output_type": "stream",
     "text": [
      "Enter no. of rows 4\n",
      "Enter no. of columns 2\n"
     ]
    },
    {
     "name": "stdout",
     "output_type": "stream",
     "text": [
      "55\n",
      "55\n",
      "55\n",
      "55\n"
     ]
    }
   ],
   "source": [
    "#Use nested while loop to print 3 different pattern.\n",
    "\n",
    "rows=int(input('Enter no. of rows'))\n",
    "col=int(input('Enter no. of columns'))\n",
    "i=1\n",
    "while i<=rows:\n",
    "    j= 1\n",
    "    while j<=col:\n",
    "        print('5', end='')\n",
    "        j=j+1\n",
    "    i=i+1\n",
    "    print('')"
   ]
  },
  {
   "cell_type": "code",
   "execution_count": 1,
   "id": "276b5fbf-adba-4638-831b-d5e010a8a313",
   "metadata": {},
   "outputs": [
    {
     "name": "stdout",
     "output_type": "stream",
     "text": [
      "10\n",
      "9\n",
      "8\n",
      "7\n",
      "6\n",
      "5\n",
      "4\n",
      "3\n",
      "2\n",
      "1\n"
     ]
    }
   ],
   "source": [
    "7. # Reverse a while loop to display numbers from 10 to 1.\n",
    "\n",
    "i=10\n",
    "\n",
    "while i>0:\n",
    "    print(i)\n",
    "    i=i-1"
   ]
  }
 ],
 "metadata": {
  "kernelspec": {
   "display_name": "Python 3 (ipykernel)",
   "language": "python",
   "name": "python3"
  },
  "language_info": {
   "codemirror_mode": {
    "name": "ipython",
    "version": 3
   },
   "file_extension": ".py",
   "mimetype": "text/x-python",
   "name": "python",
   "nbconvert_exporter": "python",
   "pygments_lexer": "ipython3",
   "version": "3.10.8"
  }
 },
 "nbformat": 4,
 "nbformat_minor": 5
}
